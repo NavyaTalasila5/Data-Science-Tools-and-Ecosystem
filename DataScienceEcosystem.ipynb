{
 "cells": [
  {
   "cell_type": "markdown",
   "id": "087f81bc-9fec-492b-ade1-6e025256a01d",
   "metadata": {},
   "source": [
    " # Data Science Tools and Ecosystem"
   ]
  },
  {
   "cell_type": "markdown",
   "id": "e7a6aee7-3ea6-4f3e-b9a6-ff62a09779d4",
   "metadata": {},
   "source": [
    "#### In this notebook, Data Science Tools and Ecosystem are summarized."
   ]
  },
  {
   "cell_type": "markdown",
   "id": "96d3ffd9-7d43-4e17-b410-c4a44e7149f7",
   "metadata": {},
   "source": [
    "## __Objectives:__\n",
    "- List popular languages for Data Science.\n",
    "- List commonly used libraries used by Data Scientists.\n",
    "- List some Data Science Tools.\n"
   ]
  },
  {
   "cell_type": "markdown",
   "id": "c3e17fd4-5a73-4114-8b44-88d1c5ed5aa7",
   "metadata": {},
   "source": [
    "#### Some of the popular languages that Data Scientists use are:"
   ]
  },
  {
   "cell_type": "markdown",
   "id": "5f1eb6c3-63d1-4d6a-80fb-14a6b91e3cce",
   "metadata": {},
   "source": [
    "1. Python\n",
    "2. R\n",
    "3. SQL"
   ]
  },
  {
   "cell_type": "markdown",
   "id": "97bbb3b7-f609-4206-a865-a05f570a443a",
   "metadata": {},
   "source": [
    "#### Some of the commonly used libraries used by Data Scientists include:"
   ]
  },
  {
   "cell_type": "markdown",
   "id": "473586c7-b67b-432b-ad41-3baeaeb1f134",
   "metadata": {},
   "source": [
    "1. NumPy\n",
    "2. Pandas\n",
    "3. Matplotlib \n",
    "4. Scikit-Learn"
   ]
  },
  {
   "cell_type": "markdown",
   "id": "41a9a8fb-5096-4b5a-9b69-e20311ee73d9",
   "metadata": {},
   "source": [
    "|Data Science Tools|\n",
    "|------------------|\n",
    "|Jupyter Notebook|\n",
    "|VS Code (Visual Studio Code)|\n",
    "|RStudio|"
   ]
  },
  {
   "cell_type": "markdown",
   "id": "2b99542f-1ee7-4ea5-94ad-c78d4bf21502",
   "metadata": {},
   "source": [
    "#### Below are a few examples of evaluating arithmetic expressions in Python"
   ]
  },
  {
   "cell_type": "code",
   "execution_count": 14,
   "id": "06cff5a4-8159-4e53-bcf6-062f6cdd47fd",
   "metadata": {},
   "outputs": [
    {
     "data": {
      "text/plain": [
       "17"
      ]
     },
     "execution_count": 14,
     "metadata": {},
     "output_type": "execute_result"
    }
   ],
   "source": [
    "# This a simple arithmetic expression to mutiply then add integers\n",
    "(3*4)+5"
   ]
  },
  {
   "cell_type": "code",
   "execution_count": 16,
   "id": "99dd1aea-1062-4af9-bd31-6fa2f94ede9f",
   "metadata": {},
   "outputs": [
    {
     "data": {
      "text/plain": [
       "3.3333333333333335"
      ]
     },
     "execution_count": 16,
     "metadata": {},
     "output_type": "execute_result"
    }
   ],
   "source": [
    "# This will convert 200 minutes to hours by diving by 60.\n",
    "200/60"
   ]
  },
  {
   "cell_type": "markdown",
   "id": "3cb10571-da9d-4fcf-96f4-1cd31f88604e",
   "metadata": {},
   "source": [
    "## Author\n",
    "Talasila Navya Annapurna"
   ]
  },
  {
   "cell_type": "code",
   "execution_count": null,
   "id": "67dbc2b2-8aa3-4a02-bbf4-e69f3108ec36",
   "metadata": {},
   "outputs": [],
   "source": []
  }
 ],
 "metadata": {
  "kernelspec": {
   "display_name": "Python 3 (ipykernel)",
   "language": "python",
   "name": "python3"
  },
  "language_info": {
   "codemirror_mode": {
    "name": "ipython",
    "version": 3
   },
   "file_extension": ".py",
   "mimetype": "text/x-python",
   "name": "python",
   "nbconvert_exporter": "python",
   "pygments_lexer": "ipython3",
   "version": "3.12.7"
  }
 },
 "nbformat": 4,
 "nbformat_minor": 5
}
